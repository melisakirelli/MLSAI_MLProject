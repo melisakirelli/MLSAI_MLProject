{
 "cells": [
  {
   "cell_type": "code",
   "execution_count": 1,
   "id": "92be013c",
   "metadata": {
    "_cell_guid": "b1076dfc-b9ad-4769-8c92-a6c4dae69d19",
    "_uuid": "8f2839f25d086af736a60e9eeb907d3b93b6e0e5",
    "execution": {
     "iopub.execute_input": "2024-09-19T01:56:35.937627Z",
     "iopub.status.busy": "2024-09-19T01:56:35.937053Z",
     "iopub.status.idle": "2024-09-19T01:56:36.451556Z",
     "shell.execute_reply": "2024-09-19T01:56:36.450086Z"
    },
    "papermill": {
     "duration": 0.528166,
     "end_time": "2024-09-19T01:56:36.454443",
     "exception": false,
     "start_time": "2024-09-19T01:56:35.926277",
     "status": "completed"
    },
    "tags": []
   },
   "outputs": [
    {
     "name": "stdout",
     "output_type": "stream",
     "text": [
      "/kaggle/input/retail-transactions-dataset/Retail_Transactions_Dataset.csv\n"
     ]
    }
   ],
   "source": [
    "# This Python 3 environment comes with many helpful analytics libraries installed\n",
    "# It is defined by the kaggle/python Docker image: https://github.com/kaggle/docker-python\n",
    "# For example, here's several helpful packages to load\n",
    "\n",
    "import numpy as np # linear algebra\n",
    "import pandas as pd # data processing, CSV file I/O (e.g. pd.read_csv)\n",
    "\n",
    "# Input data files are available in the read-only \"../input/\" directory\n",
    "# For example, running this (by clicking run or pressing Shift+Enter) will list all files under the input directory\n",
    "\n",
    "import os\n",
    "for dirname, _, filenames in os.walk('/kaggle/input'):\n",
    "    for filename in filenames:\n",
    "        print(os.path.join(dirname, filename))\n",
    "\n",
    "# You can write up to 20GB to the current directory (/kaggle/working/) that gets preserved as output when you create a version using \"Save & Run All\" \n",
    "# You can also write temporary files to /kaggle/temp/, but they won't be saved outside of the current session"
   ]
  },
  {
   "cell_type": "code",
   "execution_count": 2,
   "id": "c565af92",
   "metadata": {
    "execution": {
     "iopub.execute_input": "2024-09-19T01:56:36.474533Z",
     "iopub.status.busy": "2024-09-19T01:56:36.473771Z",
     "iopub.status.idle": "2024-09-19T01:56:43.446877Z",
     "shell.execute_reply": "2024-09-19T01:56:43.445424Z"
    },
    "papermill": {
     "duration": 6.986403,
     "end_time": "2024-09-19T01:56:43.449871",
     "exception": false,
     "start_time": "2024-09-19T01:56:36.463468",
     "status": "completed"
    },
    "tags": []
   },
   "outputs": [
    {
     "data": {
      "text/html": [
       "<div>\n",
       "<style scoped>\n",
       "    .dataframe tbody tr th:only-of-type {\n",
       "        vertical-align: middle;\n",
       "    }\n",
       "\n",
       "    .dataframe tbody tr th {\n",
       "        vertical-align: top;\n",
       "    }\n",
       "\n",
       "    .dataframe thead th {\n",
       "        text-align: right;\n",
       "    }\n",
       "</style>\n",
       "<table border=\"1\" class=\"dataframe\">\n",
       "  <thead>\n",
       "    <tr style=\"text-align: right;\">\n",
       "      <th></th>\n",
       "      <th>Transaction_ID</th>\n",
       "      <th>Date</th>\n",
       "      <th>Customer_Name</th>\n",
       "      <th>Product</th>\n",
       "      <th>Total_Items</th>\n",
       "      <th>Total_Cost</th>\n",
       "      <th>Payment_Method</th>\n",
       "      <th>City</th>\n",
       "      <th>Store_Type</th>\n",
       "      <th>Discount_Applied</th>\n",
       "      <th>Customer_Category</th>\n",
       "      <th>Season</th>\n",
       "      <th>Promotion</th>\n",
       "    </tr>\n",
       "  </thead>\n",
       "  <tbody>\n",
       "    <tr>\n",
       "      <th>0</th>\n",
       "      <td>1000000000</td>\n",
       "      <td>2022-01-21 06:27:29</td>\n",
       "      <td>Stacey Price</td>\n",
       "      <td>['Ketchup', 'Shaving Cream', 'Light Bulbs']</td>\n",
       "      <td>3</td>\n",
       "      <td>71.65</td>\n",
       "      <td>Mobile Payment</td>\n",
       "      <td>Los Angeles</td>\n",
       "      <td>Warehouse Club</td>\n",
       "      <td>True</td>\n",
       "      <td>Homemaker</td>\n",
       "      <td>Winter</td>\n",
       "      <td>NaN</td>\n",
       "    </tr>\n",
       "    <tr>\n",
       "      <th>1</th>\n",
       "      <td>1000000001</td>\n",
       "      <td>2023-03-01 13:01:21</td>\n",
       "      <td>Michelle Carlson</td>\n",
       "      <td>['Ice Cream', 'Milk', 'Olive Oil', 'Bread', 'P...</td>\n",
       "      <td>2</td>\n",
       "      <td>25.93</td>\n",
       "      <td>Cash</td>\n",
       "      <td>San Francisco</td>\n",
       "      <td>Specialty Store</td>\n",
       "      <td>True</td>\n",
       "      <td>Professional</td>\n",
       "      <td>Fall</td>\n",
       "      <td>BOGO (Buy One Get One)</td>\n",
       "    </tr>\n",
       "    <tr>\n",
       "      <th>2</th>\n",
       "      <td>1000000002</td>\n",
       "      <td>2024-03-21 15:37:04</td>\n",
       "      <td>Lisa Graves</td>\n",
       "      <td>['Spinach']</td>\n",
       "      <td>6</td>\n",
       "      <td>41.49</td>\n",
       "      <td>Credit Card</td>\n",
       "      <td>Houston</td>\n",
       "      <td>Department Store</td>\n",
       "      <td>True</td>\n",
       "      <td>Professional</td>\n",
       "      <td>Winter</td>\n",
       "      <td>NaN</td>\n",
       "    </tr>\n",
       "    <tr>\n",
       "      <th>3</th>\n",
       "      <td>1000000003</td>\n",
       "      <td>2020-10-31 09:59:47</td>\n",
       "      <td>Mrs. Patricia May</td>\n",
       "      <td>['Tissues', 'Mustard']</td>\n",
       "      <td>1</td>\n",
       "      <td>39.34</td>\n",
       "      <td>Mobile Payment</td>\n",
       "      <td>Chicago</td>\n",
       "      <td>Pharmacy</td>\n",
       "      <td>True</td>\n",
       "      <td>Homemaker</td>\n",
       "      <td>Spring</td>\n",
       "      <td>NaN</td>\n",
       "    </tr>\n",
       "    <tr>\n",
       "      <th>4</th>\n",
       "      <td>1000000004</td>\n",
       "      <td>2020-12-10 00:59:59</td>\n",
       "      <td>Susan Mitchell</td>\n",
       "      <td>['Dish Soap']</td>\n",
       "      <td>10</td>\n",
       "      <td>16.42</td>\n",
       "      <td>Debit Card</td>\n",
       "      <td>Houston</td>\n",
       "      <td>Specialty Store</td>\n",
       "      <td>False</td>\n",
       "      <td>Young Adult</td>\n",
       "      <td>Winter</td>\n",
       "      <td>Discount on Selected Items</td>\n",
       "    </tr>\n",
       "  </tbody>\n",
       "</table>\n",
       "</div>"
      ],
      "text/plain": [
       "   Transaction_ID                 Date      Customer_Name  \\\n",
       "0      1000000000  2022-01-21 06:27:29       Stacey Price   \n",
       "1      1000000001  2023-03-01 13:01:21   Michelle Carlson   \n",
       "2      1000000002  2024-03-21 15:37:04        Lisa Graves   \n",
       "3      1000000003  2020-10-31 09:59:47  Mrs. Patricia May   \n",
       "4      1000000004  2020-12-10 00:59:59     Susan Mitchell   \n",
       "\n",
       "                                             Product  Total_Items  Total_Cost  \\\n",
       "0        ['Ketchup', 'Shaving Cream', 'Light Bulbs']            3       71.65   \n",
       "1  ['Ice Cream', 'Milk', 'Olive Oil', 'Bread', 'P...            2       25.93   \n",
       "2                                        ['Spinach']            6       41.49   \n",
       "3                             ['Tissues', 'Mustard']            1       39.34   \n",
       "4                                      ['Dish Soap']           10       16.42   \n",
       "\n",
       "   Payment_Method           City        Store_Type  Discount_Applied  \\\n",
       "0  Mobile Payment    Los Angeles    Warehouse Club              True   \n",
       "1            Cash  San Francisco   Specialty Store              True   \n",
       "2     Credit Card        Houston  Department Store              True   \n",
       "3  Mobile Payment        Chicago          Pharmacy              True   \n",
       "4      Debit Card        Houston   Specialty Store             False   \n",
       "\n",
       "  Customer_Category  Season                   Promotion  \n",
       "0         Homemaker  Winter                         NaN  \n",
       "1      Professional    Fall      BOGO (Buy One Get One)  \n",
       "2      Professional  Winter                         NaN  \n",
       "3         Homemaker  Spring                         NaN  \n",
       "4       Young Adult  Winter  Discount on Selected Items  "
      ]
     },
     "execution_count": 2,
     "metadata": {},
     "output_type": "execute_result"
    }
   ],
   "source": [
    "# Gerekli kütüphaneleri yükleyelim\n",
    "import pandas as pd\n",
    "\n",
    "# Veri setini yükleyelim\n",
    "df = pd.read_csv('/kaggle/input/retail-transactions-dataset/Retail_Transactions_Dataset.csv')\n",
    "\n",
    "# İlk birkaç satırı görelim\n",
    "df.head()"
   ]
  },
  {
   "cell_type": "code",
   "execution_count": 3,
   "id": "eab0658d",
   "metadata": {
    "execution": {
     "iopub.execute_input": "2024-09-19T01:56:43.470220Z",
     "iopub.status.busy": "2024-09-19T01:56:43.469714Z",
     "iopub.status.idle": "2024-09-19T01:56:44.519042Z",
     "shell.execute_reply": "2024-09-19T01:56:44.516648Z"
    },
    "papermill": {
     "duration": 1.06387,
     "end_time": "2024-09-19T01:56:44.523322",
     "exception": false,
     "start_time": "2024-09-19T01:56:43.459452",
     "status": "completed"
    },
    "tags": []
   },
   "outputs": [
    {
     "name": "stdout",
     "output_type": "stream",
     "text": [
      "<class 'pandas.core.frame.DataFrame'>\n",
      "RangeIndex: 1000000 entries, 0 to 999999\n",
      "Data columns (total 13 columns):\n",
      " #   Column             Non-Null Count    Dtype  \n",
      "---  ------             --------------    -----  \n",
      " 0   Transaction_ID     1000000 non-null  int64  \n",
      " 1   Date               1000000 non-null  object \n",
      " 2   Customer_Name      1000000 non-null  object \n",
      " 3   Product            1000000 non-null  object \n",
      " 4   Total_Items        1000000 non-null  int64  \n",
      " 5   Total_Cost         1000000 non-null  float64\n",
      " 6   Payment_Method     1000000 non-null  object \n",
      " 7   City               1000000 non-null  object \n",
      " 8   Store_Type         1000000 non-null  object \n",
      " 9   Discount_Applied   1000000 non-null  bool   \n",
      " 10  Customer_Category  1000000 non-null  object \n",
      " 11  Season             1000000 non-null  object \n",
      " 12  Promotion          666057 non-null   object \n",
      "dtypes: bool(1), float64(1), int64(2), object(9)\n",
      "memory usage: 92.5+ MB\n"
     ]
    }
   ],
   "source": [
    "# Veri seti hakkında genel bilgi\n",
    "df.info()"
   ]
  },
  {
   "cell_type": "markdown",
   "id": "c445484f",
   "metadata": {
    "papermill": {
     "duration": 0.010238,
     "end_time": "2024-09-19T01:56:44.543714",
     "exception": false,
     "start_time": "2024-09-19T01:56:44.533476",
     "status": "completed"
    },
    "tags": []
   },
   "source": [
    "Veri setimizde 1000000 satır ve 13 sütun olduğunu ve bunların hangi formatta olduğunu görüyoruz. Bu adımda \"Promotion\" sütununda eksik veri olduğunu görebiliyoruz ama bir sonraki satırda bunun kontrolünün nasıl yapıldığına dair bir adım daha ekliyorum. Ayrıca burada \"Date\" sütunumuz 'object' olarak kaydedilmiş, bu sütunu zamanla ilgili analizler yapabilmek için 'datetime' formatına dönüştürmemiz gerekecek. Bunların dışında, \"Payment_Method\", \"City\", \"Store_Type\", \"Customer_Category\", \"Season\" ve \"Promotion\" sütunları kategorik veriler içerdiğinden bunları sayısal hale dönüştüreceğiz. Bunu yapmamızdaki amaç makine öğrenmesi algoritmalarının sayısal verilerle çalışıyor olmasıdır."
   ]
  },
  {
   "cell_type": "code",
   "execution_count": 4,
   "id": "96e70baa",
   "metadata": {
    "execution": {
     "iopub.execute_input": "2024-09-19T01:56:44.566928Z",
     "iopub.status.busy": "2024-09-19T01:56:44.566487Z",
     "iopub.status.idle": "2024-09-19T01:56:45.554663Z",
     "shell.execute_reply": "2024-09-19T01:56:45.552902Z"
    },
    "papermill": {
     "duration": 1.005308,
     "end_time": "2024-09-19T01:56:45.558904",
     "exception": false,
     "start_time": "2024-09-19T01:56:44.553596",
     "status": "completed"
    },
    "tags": []
   },
   "outputs": [
    {
     "data": {
      "text/plain": [
       "Transaction_ID            0\n",
       "Date                      0\n",
       "Customer_Name             0\n",
       "Product                   0\n",
       "Total_Items               0\n",
       "Total_Cost                0\n",
       "Payment_Method            0\n",
       "City                      0\n",
       "Store_Type                0\n",
       "Discount_Applied          0\n",
       "Customer_Category         0\n",
       "Season                    0\n",
       "Promotion            333943\n",
       "dtype: int64"
      ]
     },
     "execution_count": 4,
     "metadata": {},
     "output_type": "execute_result"
    }
   ],
   "source": [
    "# Eksik veri kontrolü\n",
    "df.isnull().sum()"
   ]
  },
  {
   "cell_type": "markdown",
   "id": "5a39fc70",
   "metadata": {
    "papermill": {
     "duration": 0.00886,
     "end_time": "2024-09-19T01:56:45.577362",
     "exception": false,
     "start_time": "2024-09-19T01:56:45.568502",
     "status": "completed"
    },
    "tags": []
   },
   "source": [
    "Eksik veri var mı diye kontrol ettiğimizde \"Promotion\" sütununda 333943 tane eksik veri olduğunu görebiliyoruz."
   ]
  },
  {
   "cell_type": "code",
   "execution_count": 5,
   "id": "86fe64dd",
   "metadata": {
    "execution": {
     "iopub.execute_input": "2024-09-19T01:56:45.597342Z",
     "iopub.status.busy": "2024-09-19T01:56:45.596890Z",
     "iopub.status.idle": "2024-09-19T01:56:45.730826Z",
     "shell.execute_reply": "2024-09-19T01:56:45.729610Z"
    },
    "papermill": {
     "duration": 0.148489,
     "end_time": "2024-09-19T01:56:45.734917",
     "exception": false,
     "start_time": "2024-09-19T01:56:45.586428",
     "status": "completed"
    },
    "tags": []
   },
   "outputs": [
    {
     "data": {
      "text/html": [
       "<div>\n",
       "<style scoped>\n",
       "    .dataframe tbody tr th:only-of-type {\n",
       "        vertical-align: middle;\n",
       "    }\n",
       "\n",
       "    .dataframe tbody tr th {\n",
       "        vertical-align: top;\n",
       "    }\n",
       "\n",
       "    .dataframe thead th {\n",
       "        text-align: right;\n",
       "    }\n",
       "</style>\n",
       "<table border=\"1\" class=\"dataframe\">\n",
       "  <thead>\n",
       "    <tr style=\"text-align: right;\">\n",
       "      <th></th>\n",
       "      <th>Transaction_ID</th>\n",
       "      <th>Total_Items</th>\n",
       "      <th>Total_Cost</th>\n",
       "    </tr>\n",
       "  </thead>\n",
       "  <tbody>\n",
       "    <tr>\n",
       "      <th>count</th>\n",
       "      <td>1.000000e+06</td>\n",
       "      <td>1000000.000000</td>\n",
       "      <td>1000000.000000</td>\n",
       "    </tr>\n",
       "    <tr>\n",
       "      <th>mean</th>\n",
       "      <td>1.000500e+09</td>\n",
       "      <td>5.495941</td>\n",
       "      <td>52.455220</td>\n",
       "    </tr>\n",
       "    <tr>\n",
       "      <th>std</th>\n",
       "      <td>2.886753e+05</td>\n",
       "      <td>2.871654</td>\n",
       "      <td>27.416989</td>\n",
       "    </tr>\n",
       "    <tr>\n",
       "      <th>min</th>\n",
       "      <td>1.000000e+09</td>\n",
       "      <td>1.000000</td>\n",
       "      <td>5.000000</td>\n",
       "    </tr>\n",
       "    <tr>\n",
       "      <th>25%</th>\n",
       "      <td>1.000250e+09</td>\n",
       "      <td>3.000000</td>\n",
       "      <td>28.710000</td>\n",
       "    </tr>\n",
       "    <tr>\n",
       "      <th>50%</th>\n",
       "      <td>1.000500e+09</td>\n",
       "      <td>5.000000</td>\n",
       "      <td>52.420000</td>\n",
       "    </tr>\n",
       "    <tr>\n",
       "      <th>75%</th>\n",
       "      <td>1.000750e+09</td>\n",
       "      <td>8.000000</td>\n",
       "      <td>76.190000</td>\n",
       "    </tr>\n",
       "    <tr>\n",
       "      <th>max</th>\n",
       "      <td>1.001000e+09</td>\n",
       "      <td>10.000000</td>\n",
       "      <td>100.000000</td>\n",
       "    </tr>\n",
       "  </tbody>\n",
       "</table>\n",
       "</div>"
      ],
      "text/plain": [
       "       Transaction_ID     Total_Items      Total_Cost\n",
       "count    1.000000e+06  1000000.000000  1000000.000000\n",
       "mean     1.000500e+09        5.495941       52.455220\n",
       "std      2.886753e+05        2.871654       27.416989\n",
       "min      1.000000e+09        1.000000        5.000000\n",
       "25%      1.000250e+09        3.000000       28.710000\n",
       "50%      1.000500e+09        5.000000       52.420000\n",
       "75%      1.000750e+09        8.000000       76.190000\n",
       "max      1.001000e+09       10.000000      100.000000"
      ]
     },
     "execution_count": 5,
     "metadata": {},
     "output_type": "execute_result"
    }
   ],
   "source": [
    "# Temel istatistiksel bilgiler\n",
    "df.describe()"
   ]
  },
  {
   "cell_type": "code",
   "execution_count": 6,
   "id": "648451de",
   "metadata": {
    "execution": {
     "iopub.execute_input": "2024-09-19T01:56:45.756573Z",
     "iopub.status.busy": "2024-09-19T01:56:45.756110Z",
     "iopub.status.idle": "2024-09-19T01:56:45.892869Z",
     "shell.execute_reply": "2024-09-19T01:56:45.891375Z"
    },
    "papermill": {
     "duration": 0.151607,
     "end_time": "2024-09-19T01:56:45.896713",
     "exception": false,
     "start_time": "2024-09-19T01:56:45.745106",
     "status": "completed"
    },
    "tags": []
   },
   "outputs": [],
   "source": [
    "# Promotion sütunundaki eksik değerleri 'None' ile dolduralım\n",
    "df['Promotion'] = df['Promotion'].fillna('None')"
   ]
  },
  {
   "cell_type": "code",
   "execution_count": 7,
   "id": "021793a4",
   "metadata": {
    "execution": {
     "iopub.execute_input": "2024-09-19T01:56:45.920526Z",
     "iopub.status.busy": "2024-09-19T01:56:45.920089Z",
     "iopub.status.idle": "2024-09-19T01:56:46.391870Z",
     "shell.execute_reply": "2024-09-19T01:56:46.390585Z"
    },
    "papermill": {
     "duration": 0.487363,
     "end_time": "2024-09-19T01:56:46.395217",
     "exception": false,
     "start_time": "2024-09-19T01:56:45.907854",
     "status": "completed"
    },
    "tags": []
   },
   "outputs": [
    {
     "data": {
      "text/plain": [
       "0   2022-01-21 06:27:29\n",
       "1   2023-03-01 13:01:21\n",
       "2   2024-03-21 15:37:04\n",
       "3   2020-10-31 09:59:47\n",
       "4   2020-12-10 00:59:59\n",
       "Name: Date, dtype: datetime64[ns]"
      ]
     },
     "execution_count": 7,
     "metadata": {},
     "output_type": "execute_result"
    }
   ],
   "source": [
    "# Date sütununu datetime formatına çevirelim\n",
    "df['Date'] = pd.to_datetime(df['Date'])\n",
    "\n",
    "# Tarih sütunundaki ilk birkaç değere göz atalım\n",
    "df['Date'].head()"
   ]
  },
  {
   "cell_type": "code",
   "execution_count": 8,
   "id": "ed340c5c",
   "metadata": {
    "execution": {
     "iopub.execute_input": "2024-09-19T01:56:46.418203Z",
     "iopub.status.busy": "2024-09-19T01:56:46.417722Z",
     "iopub.status.idle": "2024-09-19T01:56:47.469449Z",
     "shell.execute_reply": "2024-09-19T01:56:47.468178Z"
    },
    "papermill": {
     "duration": 1.066671,
     "end_time": "2024-09-19T01:56:47.472310",
     "exception": false,
     "start_time": "2024-09-19T01:56:46.405639",
     "status": "completed"
    },
    "tags": []
   },
   "outputs": [
    {
     "data": {
      "text/html": [
       "<div>\n",
       "<style scoped>\n",
       "    .dataframe tbody tr th:only-of-type {\n",
       "        vertical-align: middle;\n",
       "    }\n",
       "\n",
       "    .dataframe tbody tr th {\n",
       "        vertical-align: top;\n",
       "    }\n",
       "\n",
       "    .dataframe thead th {\n",
       "        text-align: right;\n",
       "    }\n",
       "</style>\n",
       "<table border=\"1\" class=\"dataframe\">\n",
       "  <thead>\n",
       "    <tr style=\"text-align: right;\">\n",
       "      <th></th>\n",
       "      <th>Transaction_ID</th>\n",
       "      <th>Date</th>\n",
       "      <th>Customer_Name</th>\n",
       "      <th>Product</th>\n",
       "      <th>Total_Items</th>\n",
       "      <th>Total_Cost</th>\n",
       "      <th>Discount_Applied</th>\n",
       "      <th>Payment_Method_Credit Card</th>\n",
       "      <th>Payment_Method_Debit Card</th>\n",
       "      <th>Payment_Method_Mobile Payment</th>\n",
       "      <th>...</th>\n",
       "      <th>Customer_Category_Retiree</th>\n",
       "      <th>Customer_Category_Senior Citizen</th>\n",
       "      <th>Customer_Category_Student</th>\n",
       "      <th>Customer_Category_Teenager</th>\n",
       "      <th>Customer_Category_Young Adult</th>\n",
       "      <th>Season_Spring</th>\n",
       "      <th>Season_Summer</th>\n",
       "      <th>Season_Winter</th>\n",
       "      <th>Promotion_Discount on Selected Items</th>\n",
       "      <th>Promotion_None</th>\n",
       "    </tr>\n",
       "  </thead>\n",
       "  <tbody>\n",
       "    <tr>\n",
       "      <th>0</th>\n",
       "      <td>1000000000</td>\n",
       "      <td>2022-01-21 06:27:29</td>\n",
       "      <td>Stacey Price</td>\n",
       "      <td>['Ketchup', 'Shaving Cream', 'Light Bulbs']</td>\n",
       "      <td>3</td>\n",
       "      <td>71.65</td>\n",
       "      <td>True</td>\n",
       "      <td>False</td>\n",
       "      <td>False</td>\n",
       "      <td>True</td>\n",
       "      <td>...</td>\n",
       "      <td>False</td>\n",
       "      <td>False</td>\n",
       "      <td>False</td>\n",
       "      <td>False</td>\n",
       "      <td>False</td>\n",
       "      <td>False</td>\n",
       "      <td>False</td>\n",
       "      <td>True</td>\n",
       "      <td>False</td>\n",
       "      <td>True</td>\n",
       "    </tr>\n",
       "    <tr>\n",
       "      <th>1</th>\n",
       "      <td>1000000001</td>\n",
       "      <td>2023-03-01 13:01:21</td>\n",
       "      <td>Michelle Carlson</td>\n",
       "      <td>['Ice Cream', 'Milk', 'Olive Oil', 'Bread', 'P...</td>\n",
       "      <td>2</td>\n",
       "      <td>25.93</td>\n",
       "      <td>True</td>\n",
       "      <td>False</td>\n",
       "      <td>False</td>\n",
       "      <td>False</td>\n",
       "      <td>...</td>\n",
       "      <td>False</td>\n",
       "      <td>False</td>\n",
       "      <td>False</td>\n",
       "      <td>False</td>\n",
       "      <td>False</td>\n",
       "      <td>False</td>\n",
       "      <td>False</td>\n",
       "      <td>False</td>\n",
       "      <td>False</td>\n",
       "      <td>False</td>\n",
       "    </tr>\n",
       "    <tr>\n",
       "      <th>2</th>\n",
       "      <td>1000000002</td>\n",
       "      <td>2024-03-21 15:37:04</td>\n",
       "      <td>Lisa Graves</td>\n",
       "      <td>['Spinach']</td>\n",
       "      <td>6</td>\n",
       "      <td>41.49</td>\n",
       "      <td>True</td>\n",
       "      <td>True</td>\n",
       "      <td>False</td>\n",
       "      <td>False</td>\n",
       "      <td>...</td>\n",
       "      <td>False</td>\n",
       "      <td>False</td>\n",
       "      <td>False</td>\n",
       "      <td>False</td>\n",
       "      <td>False</td>\n",
       "      <td>False</td>\n",
       "      <td>False</td>\n",
       "      <td>True</td>\n",
       "      <td>False</td>\n",
       "      <td>True</td>\n",
       "    </tr>\n",
       "    <tr>\n",
       "      <th>3</th>\n",
       "      <td>1000000003</td>\n",
       "      <td>2020-10-31 09:59:47</td>\n",
       "      <td>Mrs. Patricia May</td>\n",
       "      <td>['Tissues', 'Mustard']</td>\n",
       "      <td>1</td>\n",
       "      <td>39.34</td>\n",
       "      <td>True</td>\n",
       "      <td>False</td>\n",
       "      <td>False</td>\n",
       "      <td>True</td>\n",
       "      <td>...</td>\n",
       "      <td>False</td>\n",
       "      <td>False</td>\n",
       "      <td>False</td>\n",
       "      <td>False</td>\n",
       "      <td>False</td>\n",
       "      <td>True</td>\n",
       "      <td>False</td>\n",
       "      <td>False</td>\n",
       "      <td>False</td>\n",
       "      <td>True</td>\n",
       "    </tr>\n",
       "    <tr>\n",
       "      <th>4</th>\n",
       "      <td>1000000004</td>\n",
       "      <td>2020-12-10 00:59:59</td>\n",
       "      <td>Susan Mitchell</td>\n",
       "      <td>['Dish Soap']</td>\n",
       "      <td>10</td>\n",
       "      <td>16.42</td>\n",
       "      <td>False</td>\n",
       "      <td>False</td>\n",
       "      <td>True</td>\n",
       "      <td>False</td>\n",
       "      <td>...</td>\n",
       "      <td>False</td>\n",
       "      <td>False</td>\n",
       "      <td>False</td>\n",
       "      <td>False</td>\n",
       "      <td>True</td>\n",
       "      <td>False</td>\n",
       "      <td>False</td>\n",
       "      <td>True</td>\n",
       "      <td>True</td>\n",
       "      <td>False</td>\n",
       "    </tr>\n",
       "  </tbody>\n",
       "</table>\n",
       "<p>5 rows × 36 columns</p>\n",
       "</div>"
      ],
      "text/plain": [
       "   Transaction_ID                Date      Customer_Name  \\\n",
       "0      1000000000 2022-01-21 06:27:29       Stacey Price   \n",
       "1      1000000001 2023-03-01 13:01:21   Michelle Carlson   \n",
       "2      1000000002 2024-03-21 15:37:04        Lisa Graves   \n",
       "3      1000000003 2020-10-31 09:59:47  Mrs. Patricia May   \n",
       "4      1000000004 2020-12-10 00:59:59     Susan Mitchell   \n",
       "\n",
       "                                             Product  Total_Items  Total_Cost  \\\n",
       "0        ['Ketchup', 'Shaving Cream', 'Light Bulbs']            3       71.65   \n",
       "1  ['Ice Cream', 'Milk', 'Olive Oil', 'Bread', 'P...            2       25.93   \n",
       "2                                        ['Spinach']            6       41.49   \n",
       "3                             ['Tissues', 'Mustard']            1       39.34   \n",
       "4                                      ['Dish Soap']           10       16.42   \n",
       "\n",
       "   Discount_Applied  Payment_Method_Credit Card  Payment_Method_Debit Card  \\\n",
       "0              True                       False                      False   \n",
       "1              True                       False                      False   \n",
       "2              True                        True                      False   \n",
       "3              True                       False                      False   \n",
       "4             False                       False                       True   \n",
       "\n",
       "   Payment_Method_Mobile Payment  ...  Customer_Category_Retiree  \\\n",
       "0                           True  ...                      False   \n",
       "1                          False  ...                      False   \n",
       "2                          False  ...                      False   \n",
       "3                           True  ...                      False   \n",
       "4                          False  ...                      False   \n",
       "\n",
       "   Customer_Category_Senior Citizen  Customer_Category_Student  \\\n",
       "0                             False                      False   \n",
       "1                             False                      False   \n",
       "2                             False                      False   \n",
       "3                             False                      False   \n",
       "4                             False                      False   \n",
       "\n",
       "   Customer_Category_Teenager  Customer_Category_Young Adult  Season_Spring  \\\n",
       "0                       False                          False          False   \n",
       "1                       False                          False          False   \n",
       "2                       False                          False          False   \n",
       "3                       False                          False           True   \n",
       "4                       False                           True          False   \n",
       "\n",
       "   Season_Summer  Season_Winter  Promotion_Discount on Selected Items  \\\n",
       "0          False           True                                 False   \n",
       "1          False          False                                 False   \n",
       "2          False           True                                 False   \n",
       "3          False          False                                 False   \n",
       "4          False           True                                  True   \n",
       "\n",
       "   Promotion_None  \n",
       "0            True  \n",
       "1           False  \n",
       "2            True  \n",
       "3            True  \n",
       "4           False  \n",
       "\n",
       "[5 rows x 36 columns]"
      ]
     },
     "execution_count": 8,
     "metadata": {},
     "output_type": "execute_result"
    }
   ],
   "source": [
    "# Kategorik sütunları One-Hot Encoding ile sayısal hale getirelim\n",
    "df = pd.get_dummies(df, columns=['Payment_Method', 'City', 'Store_Type', 'Customer_Category', 'Season', 'Promotion'], drop_first=True)\n",
    "\n",
    "# Yeni tabloyu kontrol edelim\n",
    "df.head()"
   ]
  },
  {
   "cell_type": "markdown",
   "id": "113dad8e",
   "metadata": {
    "papermill": {
     "duration": 0.01074,
     "end_time": "2024-09-19T01:56:47.493770",
     "exception": false,
     "start_time": "2024-09-19T01:56:47.483030",
     "status": "completed"
    },
    "tags": []
   },
   "source": [
    "One-Hot Encoding yapmasaydık ne olurdu, deneyerek öğrendim. O yüzden bahsetmeden geçmek istemiyorum. \n",
    "Eğer bu adımı yapmasaydık, algoritmalar örneğin \"Season\" sütunundaki 'Winter', 'Spring' gibi değerleri anlamayacaktı çünkü makine öğrenmesi algoritmaları sayısal verilerle çalışıyor. Bunu yapmak yerine alternatif olarak \"Label Encoding\" (etiket kodlama) yapabilirdik, yani 'Winter' = 1, 'Spring' = 2 gibi sayılar atayabilirdik. Ama bu durumda algoritma bu sayıları sıralı veya büyüklük açısından karşılaştırabilirdi ve bu yanlış olurdu. Yani algoritma 'Spring' değerinin 'Winter'dan büyük olduğunu düşünebilirdi."
   ]
  },
  {
   "cell_type": "markdown",
   "id": "8c2d9f1a",
   "metadata": {
    "papermill": {
     "duration": 0.010191,
     "end_time": "2024-09-19T01:56:47.514280",
     "exception": false,
     "start_time": "2024-09-19T01:56:47.504089",
     "status": "completed"
    },
    "tags": []
   },
   "source": [
    "***Gözetimli Öğrenme - Doğrusal Regresyon***\n",
    "\n",
    "\"Total_Cost\" sütununu label olarak kullanarak bir regresyon modeli oluşturacağız. Diğer sütunlar modelin tahmin için kullanacağı özellikler olacak."
   ]
  },
  {
   "cell_type": "code",
   "execution_count": 9,
   "id": "4465859a",
   "metadata": {
    "execution": {
     "iopub.execute_input": "2024-09-19T01:56:47.537460Z",
     "iopub.status.busy": "2024-09-19T01:56:47.536907Z",
     "iopub.status.idle": "2024-09-19T01:56:49.468936Z",
     "shell.execute_reply": "2024-09-19T01:56:49.467717Z"
    },
    "papermill": {
     "duration": 1.946752,
     "end_time": "2024-09-19T01:56:49.471809",
     "exception": false,
     "start_time": "2024-09-19T01:56:47.525057",
     "status": "completed"
    },
    "tags": []
   },
   "outputs": [],
   "source": [
    "# Label (Total_Cost)\n",
    "y = df['Total_Cost']\n",
    "\n",
    "# Features (Label hariç tüm diğer sütunlar)\n",
    "X = df.drop(columns=['Transaction_ID','Customer_Name', 'Product', 'Date'])\n",
    "\n",
    "# Eğitim ve test setine bölelim\n",
    "from sklearn.model_selection import train_test_split\n",
    "X_train, X_test, y_train, y_test = train_test_split(X, y, test_size=0.2, random_state=42)"
   ]
  },
  {
   "cell_type": "markdown",
   "id": "2ea89493",
   "metadata": {
    "papermill": {
     "duration": 0.009965,
     "end_time": "2024-09-19T01:56:49.493143",
     "exception": false,
     "start_time": "2024-09-19T01:56:49.483178",
     "status": "completed"
    },
    "tags": []
   },
   "source": [
    "İlk denememde drop edeceğim sütunları seçerken \"Transaction_ID\" sütununu ele almamıştım. Fakat bunun sonucunda denediğim tüm algoritmalarda MSE ve R^2 değerlerim çok bozuk geliyordu. Veriyi incelediğimde bu sütunu da drop etmem gerektiğini anladım ve algoritmamı tekrar çalıştırdığımda daha sağlıklı sonuçlar aldım."
   ]
  },
  {
   "cell_type": "markdown",
   "id": "9090de42",
   "metadata": {
    "papermill": {
     "duration": 0.010248,
     "end_time": "2024-09-19T01:56:49.513410",
     "exception": false,
     "start_time": "2024-09-19T01:56:49.503162",
     "status": "completed"
    },
    "tags": []
   },
   "source": [
    "Basit bir regresyon modeli olan Doğrusal Regresyon modelini oluşturalım ve modeli eğitip performasına bir bakalım."
   ]
  },
  {
   "cell_type": "code",
   "execution_count": 10,
   "id": "a7a8e04f",
   "metadata": {
    "execution": {
     "iopub.execute_input": "2024-09-19T01:56:49.537175Z",
     "iopub.status.busy": "2024-09-19T01:56:49.536554Z",
     "iopub.status.idle": "2024-09-19T01:56:51.914517Z",
     "shell.execute_reply": "2024-09-19T01:56:51.912924Z"
    },
    "papermill": {
     "duration": 2.394552,
     "end_time": "2024-09-19T01:56:51.918707",
     "exception": false,
     "start_time": "2024-09-19T01:56:49.524155",
     "status": "completed"
    },
    "tags": []
   },
   "outputs": [
    {
     "name": "stdout",
     "output_type": "stream",
     "text": [
      "Mean Squared Error: 6.843652855477745e-28\n"
     ]
    }
   ],
   "source": [
    "# Doğrusal Regresyon Modeli\n",
    "\n",
    "from sklearn.linear_model import LinearRegression\n",
    "\n",
    "model = LinearRegression()\n",
    "\n",
    "# Modeli eğit\n",
    "model.fit(X_train, y_train)\n",
    "\n",
    "# Test setinde tahmin yap\n",
    "y_pred = model.predict(X_test)\n",
    "\n",
    "# Modelin performansını değerlendirelim\n",
    "\n",
    "from sklearn.metrics import mean_squared_error\n",
    "\n",
    "mse = mean_squared_error(y_test, y_pred)\n",
    "print(f\"Mean Squared Error: {mse}\")"
   ]
  },
  {
   "cell_type": "code",
   "execution_count": 11,
   "id": "493e8d0c",
   "metadata": {
    "execution": {
     "iopub.execute_input": "2024-09-19T01:56:51.964008Z",
     "iopub.status.busy": "2024-09-19T01:56:51.963300Z",
     "iopub.status.idle": "2024-09-19T01:56:51.977710Z",
     "shell.execute_reply": "2024-09-19T01:56:51.976199Z"
    },
    "papermill": {
     "duration": 0.042629,
     "end_time": "2024-09-19T01:56:51.982208",
     "exception": false,
     "start_time": "2024-09-19T01:56:51.939579",
     "status": "completed"
    },
    "tags": []
   },
   "outputs": [
    {
     "name": "stdout",
     "output_type": "stream",
     "text": [
      "R² Score: 1.0\n"
     ]
    }
   ],
   "source": [
    "# Modelin açıklama gücünü ölçmek için R^2 skorunu hesaplayalım\n",
    "\n",
    "from sklearn.metrics import r2_score\n",
    "\n",
    "r2 = r2_score(y_test, y_pred)\n",
    "print(f\"R² Score: {r2}\")"
   ]
  },
  {
   "cell_type": "markdown",
   "id": "a481e2d4",
   "metadata": {
    "papermill": {
     "duration": 0.021592,
     "end_time": "2024-09-19T01:56:52.026426",
     "exception": false,
     "start_time": "2024-09-19T01:56:52.004834",
     "status": "completed"
    },
    "tags": []
   },
   "source": [
    "Bu sonuçlar, modelinizin neredeyse mükemmel performans gösterdiğini işaret ediyor. R^2 skoru 1.0, modelinizin verilerin tüm varyansını açıkladığını ve MSE'nin bu kadar düşük olması, modelinizin tahminlerinin gerçek değerlerle neredeyse tamamen uyuştuğunu göstermektedir."
   ]
  },
  {
   "cell_type": "markdown",
   "id": "6b756ce5",
   "metadata": {
    "papermill": {
     "duration": 0.009986,
     "end_time": "2024-09-19T01:56:52.047854",
     "exception": false,
     "start_time": "2024-09-19T01:56:52.037868",
     "status": "completed"
    },
    "tags": []
   },
   "source": [
    "***Gözetimsiz Öğrenme - K-Means***\n",
    "\n",
    "Total_Cost ve Total_Items gibi sayısal sütunları kullanarak gruplama yapacağız.\n",
    "K-means algoritmasıyla müşteri segmentasyonu yapacağız. "
   ]
  },
  {
   "cell_type": "code",
   "execution_count": 12,
   "id": "af38ad5b",
   "metadata": {
    "execution": {
     "iopub.execute_input": "2024-09-19T01:56:52.070620Z",
     "iopub.status.busy": "2024-09-19T01:56:52.070187Z",
     "iopub.status.idle": "2024-09-19T01:56:57.156866Z",
     "shell.execute_reply": "2024-09-19T01:56:57.155357Z"
    },
    "papermill": {
     "duration": 5.101593,
     "end_time": "2024-09-19T01:56:57.159813",
     "exception": false,
     "start_time": "2024-09-19T01:56:52.058220",
     "status": "completed"
    },
    "tags": []
   },
   "outputs": [],
   "source": [
    "import pandas as pd\n",
    "from sklearn.preprocessing import StandardScaler\n",
    "\n",
    "df = pd.read_csv('/kaggle/input/retail-transactions-dataset/Retail_Transactions_Dataset.csv') \n",
    "\n",
    "# Kullanmak istediğimiz sütunları seçiyoruz\n",
    "X = df[['Total_Cost', 'Total_Items']]\n",
    "\n",
    "# Özellikleri ölçeklendiriyoruz (K-means genellikle ölçeklenmiş verilerle daha iyi çalışır)\n",
    "scaler = StandardScaler()\n",
    "X_scaled = scaler.fit_transform(X)"
   ]
  },
  {
   "cell_type": "code",
   "execution_count": 13,
   "id": "0e3b148b",
   "metadata": {
    "execution": {
     "iopub.execute_input": "2024-09-19T01:56:57.182614Z",
     "iopub.status.busy": "2024-09-19T01:56:57.182161Z",
     "iopub.status.idle": "2024-09-19T01:57:53.997165Z",
     "shell.execute_reply": "2024-09-19T01:57:53.996003Z"
    },
    "papermill": {
     "duration": 56.841526,
     "end_time": "2024-09-19T01:57:54.012026",
     "exception": false,
     "start_time": "2024-09-19T01:56:57.170500",
     "status": "completed"
    },
    "tags": []
   },
   "outputs": [
    {
     "data": {
      "image/png": "[encoded data removed]",
      "text/plain": [
       "<Figure size 800x600 with 1 Axes>"
      ]
     },
     "metadata": {},
     "output_type": "display_data"
    }
   ],
   "source": [
    "# Modeli eğitme\n",
    "from sklearn.cluster import KMeans\n",
    "import matplotlib.pyplot as plt\n",
    "\n",
    "# Küme sayısını belirlemek için farklı k değerleri ile K-means uygulayın\n",
    "k_range = range(1, 11)\n",
    "inertia = [] # bu değerleri saklayacağız\n",
    "\n",
    "for k in k_range:\n",
    "    kmeans = KMeans(n_clusters=k, n_init=10, random_state=0)\n",
    "    kmeans.fit(X_scaled)\n",
    "    inertia.append(kmeans.inertia_)\n",
    "\n",
    "# Elbow yöntemini görselleştirin\n",
    "plt.figure(figsize=(8, 6))\n",
    "plt.plot(k_range, inertia, marker='o')\n",
    "plt.xlabel('Küme Sayısı (k)')\n",
    "plt.ylabel('İnertia')\n",
    "plt.title('Elbow Metodu ile K Değerinin Seçimi')\n",
    "plt.show()"
   ]
  },
  {
   "cell_type": "code",
   "execution_count": 14,
   "id": "c1adae85",
   "metadata": {
    "execution": {
     "iopub.execute_input": "2024-09-19T01:57:54.037345Z",
     "iopub.status.busy": "2024-09-19T01:57:54.036881Z",
     "iopub.status.idle": "2024-09-19T01:57:57.533893Z",
     "shell.execute_reply": "2024-09-19T01:57:57.532523Z"
    },
    "papermill": {
     "duration": 3.514241,
     "end_time": "2024-09-19T01:57:57.537112",
     "exception": false,
     "start_time": "2024-09-19T01:57:54.022871",
     "status": "completed"
    },
    "tags": []
   },
   "outputs": [
    {
     "name": "stderr",
     "output_type": "stream",
     "text": [
      "/opt/conda/lib/python3.10/site-packages/sklearn/cluster/_kmeans.py:870: FutureWarning: The default value of `n_init` will change from 10 to 'auto' in 1.4. Set the value of `n_init` explicitly to suppress the warning\n",
      "  warnings.warn(\n"
     ]
    }
   ],
   "source": [
    "# Elbow grafiğinden, eğrinin \"dirsek\" noktasını belirleyerek en uygun k değerini seçeceğiz. Bu, genellikle eğrinin düzleştiği noktadır, yani burada k=4 diyebiliriz.\n",
    "k_optimal = 4\n",
    "\n",
    "# K-means modelini oluşturun ve veriyi kümelere ayırın\n",
    "kmeans = KMeans(n_clusters=k_optimal, random_state=0)\n",
    "df['Cluster'] = kmeans.fit_predict(X_scaled)\n"
   ]
  },
  {
   "cell_type": "code",
   "execution_count": 15,
   "id": "2baad8bd",
   "metadata": {
    "execution": {
     "iopub.execute_input": "2024-09-19T01:57:57.561110Z",
     "iopub.status.busy": "2024-09-19T01:57:57.560664Z",
     "iopub.status.idle": "2024-09-19T01:57:57.577790Z",
     "shell.execute_reply": "2024-09-19T01:57:57.576204Z"
    },
    "papermill": {
     "duration": 0.032547,
     "end_time": "2024-09-19T01:57:57.580776",
     "exception": false,
     "start_time": "2024-09-19T01:57:57.548229",
     "status": "completed"
    },
    "tags": []
   },
   "outputs": [
    {
     "name": "stdout",
     "output_type": "stream",
     "text": [
      "Küme Merkezleri:\n",
      "[[ 0.86282631  0.87129769]\n",
      " [-0.86803267  0.87131182]\n",
      " [ 0.87190619 -0.86797625]\n",
      " [-0.86052826 -0.87049093]]\n",
      "Küme Etiketleri:\n",
      "Cluster\n",
      "3    251236\n",
      "0    249749\n",
      "1    249658\n",
      "2    249357\n",
      "Name: count, dtype: int64\n"
     ]
    }
   ],
   "source": [
    "# Küme merkezlerini ve etiketleri görüntüleyin\n",
    "print(f'Küme Merkezleri:\\n{kmeans.cluster_centers_}')\n",
    "print(f'Küme Etiketleri:\\n{df[\"Cluster\"].value_counts()}')"
   ]
  },
  {
   "cell_type": "markdown",
   "id": "a8b06d45",
   "metadata": {
    "papermill": {
     "duration": 0.011109,
     "end_time": "2024-09-19T01:57:57.603811",
     "exception": false,
     "start_time": "2024-09-19T01:57:57.592702",
     "status": "completed"
    },
    "tags": []
   },
   "source": [
    "Kümeleme sonuçlarını görselleştirmek adına birçok grafik denedim. Yorumlaması en kolay olan grafiğin bu olduğuna karar verip son halini bu şekilde bırakmak istedim. Görselleştirdikten sonra ortaya çıkan grafiği yorumladım ve müşteri segmentasyonunu gerçekleştirmiş oldum."
   ]
  },
  {
   "cell_type": "code",
   "execution_count": 16,
   "id": "57a3d171",
   "metadata": {
    "execution": {
     "iopub.execute_input": "2024-09-19T01:57:57.627637Z",
     "iopub.status.busy": "2024-09-19T01:57:57.627185Z",
     "iopub.status.idle": "2024-09-19T01:59:01.078306Z",
     "shell.execute_reply": "2024-09-19T01:59:01.076546Z"
    },
    "papermill": {
     "duration": 63.478957,
     "end_time": "2024-09-19T01:59:01.093736",
     "exception": false,
     "start_time": "2024-09-19T01:57:57.614779",
     "status": "completed"
    },
    "tags": []
   },
   "outputs": [
    {
     "name": "stderr",
     "output_type": "stream",
     "text": [
      "/opt/conda/lib/python3.10/site-packages/IPython/core/pylabtools.py:152: UserWarning: Creating legend with loc=\"best\" can be slow with large amounts of data.\n",
      "  fig.canvas.print_figure(bytes_io, **kw)\n"
     ]
    },
    {
     "data": {
      "image/png": "[encoded data removed]",
      "text/plain": [
       "<Figure size 1000x800 with 2 Axes>"
      ]
     },
     "metadata": {},
     "output_type": "display_data"
    }
   ],
   "source": [
    "# Kümeleme sonuçlarını görselleştirin\n",
    "import matplotlib.pyplot as plt\n",
    "import numpy as np\n",
    "\n",
    "plt.figure(figsize=(10, 8))\n",
    "\n",
    "# Müşteri verilerini plot et\n",
    "scatter = plt.scatter(df['Total_Cost'], df['Total_Items'], c=df['Cluster'], cmap='viridis', s=10, alpha=0.6)\n",
    "\n",
    "# Küme merkezlerini plot et\n",
    "centers = kmeans.cluster_centers_\n",
    "centers = scaler.inverse_transform(centers)  # Orijinal ölçeklendirilmiş verilere geri dön\n",
    "plt.scatter(centers[:, 0], centers[:, 1], c='red', s=200, marker='X', label='Küme Merkezleri')\n",
    "\n",
    "# Küme etiketlerini tanımla\n",
    "colors = plt.cm.viridis(np.linspace(0, 1, 4))\n",
    "cluster_labels = ['Küme 0', 'Küme 1', 'Küme 2', 'Küme 3']\n",
    "\n",
    "# Renkleri ve etiketleri grafiğe ekle\n",
    "for i, color in enumerate(colors):\n",
    "    plt.scatter([], [], c=[color], label=cluster_labels[i], marker='o')\n",
    "\n",
    "plt.xlabel('Total Cost')\n",
    "plt.ylabel('Total Items')\n",
    "plt.title('Müşteri Segmentasyonu (K-means) - Küme Merkezleri ile')\n",
    "plt.colorbar(label='Küme Etiketleri')\n",
    "plt.legend()\n",
    "plt.show()"
   ]
  },
  {
   "cell_type": "markdown",
   "id": "41193439",
   "metadata": {
    "papermill": {
     "duration": 0.012489,
     "end_time": "2024-09-19T01:59:01.119143",
     "exception": false,
     "start_time": "2024-09-19T01:59:01.106654",
     "status": "completed"
    },
    "tags": []
   },
   "source": [
    "Küme 0:\n",
    "Bu küme, yüksek toplam maliyet ve yüksek toplam ürün miktarı ile karakterize edilir. Müşteriler, çok sayıda ürün alıp, toplamda yüksek maliyetli alışverişler yapıyor olabilir. Bu tür müşterilere yönelik çapraz satış stratejileri ve toplu alım indirimleri etkili olabilir.\n",
    "\n",
    "Küme 1:\n",
    "Bu küme, düşük toplam maliyet ve yüksek toplam ürün miktarı ile tanımlanır. Müşteriler, maliyet açısından düşük olan ancak çok sayıda ürün satın alıyor olabilir. Bu tür müşterilere yönelik uygun fiyatlı veya ekonomik paket teklifler dikkat çekebilir.\n",
    "\n",
    "Küme 2:\n",
    "Bu küme, yüksek toplam maliyet ve düşük toplam ürün miktarı ile karakterize edilir. Müşteriler, genellikle az sayıda ürün alıp, yüksek maliyetli ürünler satın alıyor olabilir. Bu tür müşterilere yönelik özel teklifler ve promosyonlar, alışverişlerini artırabilir.\n",
    "\n",
    "Küme 3:\n",
    "Bu küme, düşük toplam maliyet ve düşük toplam ürün miktarı ile öne çıkar. Müşteriler, hem az maliyetli hem de az sayıda ürün satın alıyor olabilir. Bu tür müşteriler için maliyet etkili promosyonlar ve indirimler cazip olabilir."
   ]
  }
 ],
 "metadata": {
  "kaggle": {
   "accelerator": "none",
   "dataSources": [
    {
     "datasetId": 3937938,
     "sourceId": 8450718,
     "sourceType": "datasetVersion"
    }
   ],
   "dockerImageVersionId": 30761,
   "isGpuEnabled": false,
   "isInternetEnabled": true,
   "language": "python",
   "sourceType": "notebook"
  },
  "kernelspec": {
   "display_name": "Python 3",
   "language": "python",
   "name": "python3"
  },
  "language_info": {
   "codemirror_mode": {
    "name": "ipython",
    "version": 3
   },
   "file_extension": ".py",
   "mimetype": "text/x-python",
   "name": "python",
   "nbconvert_exporter": "python",
   "pygments_lexer": "ipython3",
   "version": "3.10.14"
  },
  "papermill": {
   "default_parameters": {},
   "duration": 149.48582,
   "end_time": "2024-09-19T01:59:02.156555",
   "environment_variables": {},
   "exception": null,
   "input_path": "__notebook__.ipynb",
   "output_path": "__notebook__.ipynb",
   "parameters": {},
   "start_time": "2024-09-19T01:56:32.670735",
   "version": "2.6.0"
  }
 },
 "nbformat": 4,
 "nbformat_minor": 5
}
